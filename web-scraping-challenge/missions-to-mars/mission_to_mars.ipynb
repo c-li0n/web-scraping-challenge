{
 "cells": [
  {
   "cell_type": "code",
   "execution_count": null,
   "metadata": {},
   "outputs": [],
   "source": [
    "# import all dependencies\n",
    "import time\n",
    "import pandas as pd\n",
    "from bs4 import BeautifulSoup as bs\n",
    "from splinter import Browser\n",
    "# executable_path = {\"executable_path\": \"chromedriver.exe\"}\n",
    "# browser = Browser(\"chrome\", **executable_path, headless=False)\n",
    "from selenium import webdriver #for mac\n",
    "# browser = Browser(\"chrome\", headless=False)#for mac"
   ]
  },
  {
   "cell_type": "code",
   "execution_count": null,
   "metadata": {},
   "outputs": [],
   "source": [
    "browser = Browser(\"chrome\", headless=False)#for mac"
   ]
  },
  {
   "cell_type": "code",
   "execution_count": null,
   "metadata": {},
   "outputs": [],
   "source": [
    "# Scrape the NASA Mars News site\n",
    "nasa_mars_url = 'https://mars.nasa.gov/news/'\n",
    "browser.visit(nasa_mars_url)\n",
    "time.sleep(1)\n",
    "nasa_mars_html = browser.html\n",
    "nasa_mars_soup = BeautifulSoup(nasa_mars_html, 'html.parser')\n",
    "\n",
    "news_list = nasa_mars_soup.find('ul', class_='item_list')\n",
    "first_item = news_list.find('li', class_='slide')\n",
    "nasa_mars_headline = first_item.find('div', class_='content_title').text\n",
    "nasa_mars_para = first_item.find('div', class_='article_teaser_body').text\n",
    "print(nasa_mars_headline)\n",
    "print(nasa_mars_para)"
   ]
  },
  {
   "cell_type": "code",
   "execution_count": null,
   "metadata": {},
   "outputs": [],
   "source": [
    "# visit the JPL website and scrape the featured image\n",
    "featured_image_url = 'https://www.jpl.nasa.gov/spaceimages/?search=&category=Mars'\n",
    "browser.visit(featured_image_url)\n",
    "time.sleep(1)\n",
    "browser.click_link_by_partial_text('FULL IMAGE')\n",
    "time.sleep(1)\n",
    "expand = browser.find_by_css('a.fancybox-expand')\n",
    "expand.click()\n",
    "time.sleep(1)\n",
    "\n",
    "featured_image_html = browser.html\n",
    "featured_image_soup = BeautifulSoup(featured_image_html, 'html.parser')\n",
    "\n",
    "featured_image_relative = featured_image_soup.find('img', class_='fancybox-image')['src']\n",
    "featured_image_path = f'https://www.jpl.nasa.gov{featured_image_relative}'\n",
    "print(featured_image_path)"
   ]
  },
  {
   "cell_type": "code",
   "execution_count": null,
   "metadata": {},
   "outputs": [],
   "source": [
    "# visit the mars weather report twitter and scrape the latest tweet\n",
    "mars_weather_url = 'https://twitter.com/marswxreport?lang=en'\n",
    "browser.visit(mars_weather_url)\n",
    "time.sleep(1)\n",
    "mars_weather_html = browser.html\n",
    "mars_weather_soup = BeautifulSoup(mars_weather_html, 'html.parser')\n",
    "\n",
    "mars_weather_twitter = mars_weather_soup.find('ol', class_='stream-items')\n",
    "mars_weather = mars_weather_twitter.find('p', class_=\"tweet-text\").text\n",
    "print(mars_weather)"
   ]
  },
  {
   "cell_type": "code",
   "execution_count": null,
   "metadata": {
    "scrolled": true
   },
   "outputs": [],
   "source": [
    "# visit space facts and scrap the mars facts table\n",
    "mars_facts_url = 'https://space-facts.com/mars/'\n",
    "browser.visit(mars_facts_url)\n",
    "time.sleep(1)\n",
    "mars_facts_html = browser.html\n",
    "mars_facts_soup = BeautifulSoup(mars_facts_html, 'html.parser')\n",
    "#mars_facts_soup.select_one(\"\")"
   ]
  },
  {
   "cell_type": "code",
   "execution_count": null,
   "metadata": {},
   "outputs": [],
   "source": [
    "mars_facts_table = mars_facts_soup.find('table', class_='tablepress tablepress-id-comp-mars blue-table')\n",
    "print(mars_facts_table)\n",
    "column1 = mars_facts_table.find_all('td', class_='column-1')\n",
    "column2 = mars_facts_table.find_all('td', class_='column-2')\n",
    "\n",
    "facets = []\n",
    "values = []\n",
    "\n",
    "for row in column1:\n",
    "    facet = row.text.strip()\n",
    "    facets.append(facet)\n",
    "    \n",
    "for row in column2:\n",
    "    value = row.text.strip()\n",
    "    values.append(value)\n",
    "    \n",
    "mars_facts = pd.DataFrame({\n",
    "    \"Facet\":facets,\n",
    "    \"Value\":values\n",
    "    })\n",
    "\n",
    "mars_facts_html = mars_facts.to_html(header=False, index=False)\n",
    "mars_facts"
   ]
  },
  {
   "cell_type": "code",
   "execution_count": null,
   "metadata": {},
   "outputs": [],
   "source": [
    "# scrape images of Mars' hemispheres from the USGS site\n",
    "mars_hemisphere_url = 'https://astrogeology.usgs.gov/search/results?q=hemisphere+enhanced&k1=target&v1=Mars'\n",
    "mars_hemisphere_dicts = []\n",
    "\n",
    "for i in range(1,9,2):\n",
    "    mars_hemisphere_dict = {}\n",
    "    \n",
    "    browser.visit(mars_hemisphere_url)\n",
    "    time.sleep(1)\n",
    "    mars_hemisphere_html = browser.html\n",
    "    mars_hemisphere_soup = BeautifulSoup(mars_hemisphere_html, 'html.parser')\n",
    "    mars_hemisphere_name_links = mars_hemisphere_soup.find_all('a', class_='product-item')\n",
    "    mars_hemisphere_name = mars_hemisphere_name_links[i].text.strip('Enhanced')\n",
    "    \n",
    "    detail_links = browser.find_by_css('a.product-item')\n",
    "    detail_links[i].click()\n",
    "    time.sleep(1)\n",
    "    browser.find_link_by_text('Sample').first.click()\n",
    "    time.sleep(1)\n",
    "    browser.windows.current = browser.windows[-1]\n",
    "    mars_hemisphere_img_html = browser.html\n",
    "    browser.windows.current = browser.windows[0]\n",
    "    browser.windows[-1].close()\n",
    "    \n",
    "    mars_hemisphere_img_soup = BeautifulSoup(mars_hemisphere_img_html, 'html.parser')\n",
    "    mars_hemisphere_img_path = mars_hemisphere_img_soup.find('img')['src']\n",
    "\n",
    "    print(mars_hemisphere_name)\n",
    "    mars_hemisphere_dict['title'] = mars_hemisphere_name.strip()\n",
    "    \n",
    "    print(mars_hemisphere_img_path)\n",
    "    mars_hemisphere_dict['img_url'] = mars_hemisphere_img_path\n",
    "\n",
    "    mars_hemisphere_dicts.append(mars_hemisphere_dict)"
   ]
  },
  {
   "cell_type": "code",
   "execution_count": null,
   "metadata": {},
   "outputs": [],
   "source": []
  }
 ],
 "metadata": {
  "kernelspec": {
   "display_name": "Python 3",
   "language": "python",
   "name": "python3"
  },
  "language_info": {
   "codemirror_mode": {
    "name": "ipython",
    "version": 3
   },
   "file_extension": ".py",
   "mimetype": "text/x-python",
   "name": "python",
   "nbconvert_exporter": "python",
   "pygments_lexer": "ipython3",
   "version": "3.7.3"
  }
 },
 "nbformat": 4,
 "nbformat_minor": 2
}
